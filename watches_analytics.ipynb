{
 "cells": [
  {
   "cell_type": "code",
   "execution_count": 1,
   "id": "9015c348",
   "metadata": {},
   "outputs": [],
   "source": [
    "import pandas as pd\n",
    "import numpy as np"
   ]
  },
  {
   "cell_type": "code",
   "execution_count": 2,
   "id": "4bc6f640",
   "metadata": {},
   "outputs": [],
   "source": [
    "df = pd.read_csv(\"watches.csv\")"
   ]
  },
  {
   "cell_type": "code",
   "execution_count": 3,
   "id": "6ff972ff",
   "metadata": {},
   "outputs": [
    {
     "data": {
      "text/html": [
       "<div>\n",
       "<style scoped>\n",
       "    .dataframe tbody tr th:only-of-type {\n",
       "        vertical-align: middle;\n",
       "    }\n",
       "\n",
       "    .dataframe tbody tr th {\n",
       "        vertical-align: top;\n",
       "    }\n",
       "\n",
       "    .dataframe thead th {\n",
       "        text-align: right;\n",
       "    }\n",
       "</style>\n",
       "<table border=\"1\" class=\"dataframe\">\n",
       "  <thead>\n",
       "    <tr style=\"text-align: right;\">\n",
       "      <th></th>\n",
       "      <th>Unnamed: 0</th>\n",
       "      <th>titles</th>\n",
       "      <th>brand_names</th>\n",
       "      <th>images_links</th>\n",
       "      <th>prices</th>\n",
       "      <th>offers</th>\n",
       "      <th>Gender</th>\n",
       "      <th>Type</th>\n",
       "    </tr>\n",
       "  </thead>\n",
       "  <tbody>\n",
       "    <tr>\n",
       "      <th>0</th>\n",
       "      <td>0</td>\n",
       "      <td>NP2576WM01 Analog Watch - For Women</td>\n",
       "      <td>Titan</td>\n",
       "      <td>https://rukminim1.flixcart.com/image/612/612/l...</td>\n",
       "      <td>₹3,754</td>\n",
       "      <td>20% off</td>\n",
       "      <td>Women</td>\n",
       "      <td>Analog</td>\n",
       "    </tr>\n",
       "    <tr>\n",
       "      <th>1</th>\n",
       "      <td>2</td>\n",
       "      <td>77085PP03 Volt Analog Watch - For Men</td>\n",
       "      <td>SONATA</td>\n",
       "      <td>https://rukminim1.flixcart.com/image/612/612/l...</td>\n",
       "      <td>₹524</td>\n",
       "      <td>25% off</td>\n",
       "      <td>Men</td>\n",
       "      <td>Analog</td>\n",
       "    </tr>\n",
       "    <tr>\n",
       "      <th>2</th>\n",
       "      <td>3</td>\n",
       "      <td>LCS-8188 TRENDING DAY &amp; DATE FUNCTIONING Analo...</td>\n",
       "      <td>LOIS CARON</td>\n",
       "      <td>https://rukminim1.flixcart.com/image/612/612/k...</td>\n",
       "      <td>₹319</td>\n",
       "      <td>82% off</td>\n",
       "      <td>Unisex</td>\n",
       "      <td>Analog</td>\n",
       "    </tr>\n",
       "    <tr>\n",
       "      <th>3</th>\n",
       "      <td>4</td>\n",
       "      <td>Gents Exclusive 3 Designer Combo (Casual+Party...</td>\n",
       "      <td>Rizzly</td>\n",
       "      <td>https://rukminim1.flixcart.com/image/612/612/k...</td>\n",
       "      <td>₹343</td>\n",
       "      <td>61% off</td>\n",
       "      <td>Unisex</td>\n",
       "      <td>none</td>\n",
       "    </tr>\n",
       "    <tr>\n",
       "      <th>4</th>\n",
       "      <td>5</td>\n",
       "      <td>Mesh Strap All Blue Men Watch &amp; Free Premium K...</td>\n",
       "      <td>WHITE STONE</td>\n",
       "      <td>https://rukminim1.flixcart.com/image/612/612/x...</td>\n",
       "      <td>₹200</td>\n",
       "      <td>59% off</td>\n",
       "      <td>Men</td>\n",
       "      <td>none</td>\n",
       "    </tr>\n",
       "  </tbody>\n",
       "</table>\n",
       "</div>"
      ],
      "text/plain": [
       "   Unnamed: 0                                             titles  brand_names  \\\n",
       "0           0                NP2576WM01 Analog Watch - For Women        Titan   \n",
       "1           2              77085PP03 Volt Analog Watch - For Men       SONATA   \n",
       "2           3  LCS-8188 TRENDING DAY & DATE FUNCTIONING Analo...   LOIS CARON   \n",
       "3           4  Gents Exclusive 3 Designer Combo (Casual+Party...       Rizzly   \n",
       "4           5  Mesh Strap All Blue Men Watch & Free Premium K...  WHITE STONE   \n",
       "\n",
       "                                        images_links  prices   offers  Gender  \\\n",
       "0  https://rukminim1.flixcart.com/image/612/612/l...  ₹3,754  20% off   Women   \n",
       "1  https://rukminim1.flixcart.com/image/612/612/l...    ₹524  25% off     Men   \n",
       "2  https://rukminim1.flixcart.com/image/612/612/k...    ₹319  82% off  Unisex   \n",
       "3  https://rukminim1.flixcart.com/image/612/612/k...    ₹343  61% off  Unisex   \n",
       "4  https://rukminim1.flixcart.com/image/612/612/x...    ₹200  59% off     Men   \n",
       "\n",
       "     Type  \n",
       "0  Analog  \n",
       "1  Analog  \n",
       "2  Analog  \n",
       "3    none  \n",
       "4    none  "
      ]
     },
     "execution_count": 3,
     "metadata": {},
     "output_type": "execute_result"
    }
   ],
   "source": [
    "df.head()"
   ]
  },
  {
   "cell_type": "code",
   "execution_count": 18,
   "id": "9739b87c",
   "metadata": {},
   "outputs": [],
   "source": [
    "df['prices'] = df['prices'].str.replace('₹','').str.replace(',','').astype(int)"
   ]
  },
  {
   "cell_type": "code",
   "execution_count": 19,
   "id": "2043fac4",
   "metadata": {},
   "outputs": [
    {
     "data": {
      "text/plain": [
       "count      974.000000\n",
       "mean      1320.898357\n",
       "std       1642.761499\n",
       "min        175.000000\n",
       "25%        287.250000\n",
       "50%        594.000000\n",
       "75%       1647.000000\n",
       "max      14950.000000\n",
       "Name: prices, dtype: float64"
      ]
     },
     "execution_count": 19,
     "metadata": {},
     "output_type": "execute_result"
    }
   ],
   "source": [
    "df['prices'].describe()"
   ]
  },
  {
   "cell_type": "code",
   "execution_count": 26,
   "id": "fb878220",
   "metadata": {},
   "outputs": [
    {
     "data": {
      "text/html": [
       "<div>\n",
       "<style scoped>\n",
       "    .dataframe tbody tr th:only-of-type {\n",
       "        vertical-align: middle;\n",
       "    }\n",
       "\n",
       "    .dataframe tbody tr th {\n",
       "        vertical-align: top;\n",
       "    }\n",
       "\n",
       "    .dataframe thead th {\n",
       "        text-align: right;\n",
       "    }\n",
       "</style>\n",
       "<table border=\"1\" class=\"dataframe\">\n",
       "  <thead>\n",
       "    <tr style=\"text-align: right;\">\n",
       "      <th></th>\n",
       "      <th>Unnamed: 0</th>\n",
       "      <th>titles</th>\n",
       "      <th>brand_names</th>\n",
       "      <th>images_links</th>\n",
       "      <th>prices</th>\n",
       "      <th>offers</th>\n",
       "      <th>Gender</th>\n",
       "      <th>Type</th>\n",
       "    </tr>\n",
       "  </thead>\n",
       "  <tbody>\n",
       "    <tr>\n",
       "      <th>521</th>\n",
       "      <td>522</td>\n",
       "      <td>2011141 LACOSTE CLUB Analog Watch - For Men</td>\n",
       "      <td>LACOSTE</td>\n",
       "      <td>https://rukminim1.flixcart.com/image/612/612/k...</td>\n",
       "      <td>14950</td>\n",
       "      <td>7% off</td>\n",
       "      <td>Men</td>\n",
       "      <td>Analog</td>\n",
       "    </tr>\n",
       "  </tbody>\n",
       "</table>\n",
       "</div>"
      ],
      "text/plain": [
       "     Unnamed: 0                                       titles brand_names  \\\n",
       "521         522  2011141 LACOSTE CLUB Analog Watch - For Men     LACOSTE   \n",
       "\n",
       "                                          images_links  prices  offers Gender  \\\n",
       "521  https://rukminim1.flixcart.com/image/612/612/k...   14950  7% off    Men   \n",
       "\n",
       "       Type  \n",
       "521  Analog  "
      ]
     },
     "execution_count": 26,
     "metadata": {},
     "output_type": "execute_result"
    }
   ],
   "source": [
    "df[df['prices']==14950]"
   ]
  },
  {
   "cell_type": "code",
   "execution_count": 34,
   "id": "e473937c",
   "metadata": {},
   "outputs": [
    {
     "data": {
      "text/plain": [
       "<Axes: >"
      ]
     },
     "execution_count": 34,
     "metadata": {},
     "output_type": "execute_result"
    },
    {
     "data": {
      "image/png": "[encoded data removed]",
      "text/plain": [
       "<Figure size 640x480 with 1 Axes>"
      ]
     },
     "metadata": {},
     "output_type": "display_data"
    }
   ],
   "source": [
    "df['prices'].hist()"
   ]
  },
  {
   "cell_type": "code",
   "execution_count": null,
   "id": "dcf2b8df",
   "metadata": {},
   "outputs": [],
   "source": []
  }
 ],
 "metadata": {
  "kernelspec": {
   "display_name": "myenv",
   "language": "python",
   "name": "python3"
  },
  "language_info": {
   "codemirror_mode": {
    "name": "ipython",
    "version": 3
   },
   "file_extension": ".py",
   "mimetype": "text/x-python",
   "name": "python",
   "nbconvert_exporter": "python",
   "pygments_lexer": "ipython3",
   "version": "3.12.1"
  }
 },
 "nbformat": 4,
 "nbformat_minor": 5
}
